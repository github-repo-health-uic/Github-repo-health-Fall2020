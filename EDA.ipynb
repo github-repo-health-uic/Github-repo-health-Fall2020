{
 "metadata": {
  "language_info": {
   "codemirror_mode": {
    "name": "ipython",
    "version": 3
   },
   "file_extension": ".py",
   "mimetype": "text/x-python",
   "name": "python",
   "nbconvert_exporter": "python",
   "pygments_lexer": "ipython3",
   "version": "3.7.4-final"
  },
  "orig_nbformat": 2,
  "kernelspec": {
   "name": "Python 3.7.4 64-bit ('anaconda3': virtualenv)",
   "display_name": "Python 3.7.4 64-bit ('anaconda3': virtualenv)",
   "metadata": {
    "interpreter": {
     "hash": "dca0ade3e726a953b501b15e8e990130d2b7799f14cfd9f4271676035ebe5511"
    }
   }
  }
 },
 "nbformat": 4,
 "nbformat_minor": 2,
 "cells": [
  {
   "cell_type": "code",
   "execution_count": 12,
   "metadata": {},
   "outputs": [],
   "source": [
    "import pandas as pd\n",
    "import numpy as np"
   ]
  },
  {
   "cell_type": "code",
   "execution_count": 13,
   "metadata": {},
   "outputs": [],
   "source": [
    "df = pd.read_csv('RFdataset.csv')"
   ]
  },
  {
   "cell_type": "code",
   "execution_count": 22,
   "metadata": {},
   "outputs": [
    {
     "output_type": "execute_result",
     "data": {
      "text/plain": [
       "       Unnamed: 0  year  month  day  number_of_pushes  number_of_forks  \\\n",
       "0               5  2019      5   26              20.0              0.0   \n",
       "1               6  2019      6    2              29.0              0.0   \n",
       "2               7  2019      6    9              80.0              0.0   \n",
       "3               8  2019      6   16              74.0              0.0   \n",
       "4               9  2019      6   23              15.0              1.0   \n",
       "...           ...   ...    ...  ...               ...              ...   \n",
       "40870       41798  2019     12   22              88.0              5.0   \n",
       "40871       41799  2019     12   29              31.0              4.0   \n",
       "40872       41800  2020      1    5              30.0              2.0   \n",
       "40873       41801  2020      1   12              19.0              2.0   \n",
       "40874       41802  2020      1   19               3.0              1.0   \n",
       "\n",
       "       number_of_pulls  number_of_Bookmarks  issue_comment_count  \\\n",
       "0                 10.0                  0.0                  3.0   \n",
       "1                  6.0                  0.0                  0.0   \n",
       "2                 19.0                  0.0                  3.0   \n",
       "3                 25.0                  0.0                  5.0   \n",
       "4                  8.0                  1.0                  2.0   \n",
       "...                ...                  ...                  ...   \n",
       "40870             86.0                 24.0                129.0   \n",
       "40871             21.0                 30.0                 40.0   \n",
       "40872             17.0                 20.0                 13.0   \n",
       "40873             17.0                 19.0                 53.0   \n",
       "40874              6.0                  3.0                  6.0   \n",
       "\n",
       "       issue_author_count  commit_comment_count  commit_author_count  \\\n",
       "0                     3.0                   0.0                  0.0   \n",
       "1                     0.0                   0.0                  0.0   \n",
       "2                     2.0                   1.0                  1.0   \n",
       "3                     4.0                   0.0                  0.0   \n",
       "4                     2.0                   0.0                  0.0   \n",
       "...                   ...                   ...                  ...   \n",
       "40870                42.0                   3.0                  3.0   \n",
       "40871                25.0                   0.0                  0.0   \n",
       "40872                 8.0                   0.0                  0.0   \n",
       "40873                33.0                   0.0                  0.0   \n",
       "40874                 4.0                   0.0                  0.0   \n",
       "\n",
       "       number_of_issues  commit_count  unique_committer_count  Total_count  \\\n",
       "0                   0.0           5.0                     1.0         42.0   \n",
       "1                   0.0           3.0                     1.0         39.0   \n",
       "2                   0.0           9.0                     1.0        116.0   \n",
       "3                   0.0          14.0                     1.0        123.0   \n",
       "4                   0.0           3.0                     1.0         33.0   \n",
       "...                 ...           ...                     ...          ...   \n",
       "40870               0.0           0.0                     0.0        380.0   \n",
       "40871               0.0           0.0                     0.0        151.0   \n",
       "40872               0.0           0.0                     0.0         90.0   \n",
       "40873               0.0           0.0                     0.0        143.0   \n",
       "40874               0.0           0.0                     0.0         23.0   \n",
       "\n",
       "       Status  \n",
       "0         0.0  \n",
       "1         1.0  \n",
       "2         1.0  \n",
       "3         1.0  \n",
       "4         0.0  \n",
       "...       ...  \n",
       "40870     1.0  \n",
       "40871     0.0  \n",
       "40872     0.0  \n",
       "40873     1.0  \n",
       "40874     0.0  \n",
       "\n",
       "[40875 rows x 17 columns]"
      ],
      "text/html": "<div>\n<style scoped>\n    .dataframe tbody tr th:only-of-type {\n        vertical-align: middle;\n    }\n\n    .dataframe tbody tr th {\n        vertical-align: top;\n    }\n\n    .dataframe thead th {\n        text-align: right;\n    }\n</style>\n<table border=\"1\" class=\"dataframe\">\n  <thead>\n    <tr style=\"text-align: right;\">\n      <th></th>\n      <th>Unnamed: 0</th>\n      <th>year</th>\n      <th>month</th>\n      <th>day</th>\n      <th>number_of_pushes</th>\n      <th>number_of_forks</th>\n      <th>number_of_pulls</th>\n      <th>number_of_Bookmarks</th>\n      <th>issue_comment_count</th>\n      <th>issue_author_count</th>\n      <th>commit_comment_count</th>\n      <th>commit_author_count</th>\n      <th>number_of_issues</th>\n      <th>commit_count</th>\n      <th>unique_committer_count</th>\n      <th>Total_count</th>\n      <th>Status</th>\n    </tr>\n  </thead>\n  <tbody>\n    <tr>\n      <td>0</td>\n      <td>5</td>\n      <td>2019</td>\n      <td>5</td>\n      <td>26</td>\n      <td>20.0</td>\n      <td>0.0</td>\n      <td>10.0</td>\n      <td>0.0</td>\n      <td>3.0</td>\n      <td>3.0</td>\n      <td>0.0</td>\n      <td>0.0</td>\n      <td>0.0</td>\n      <td>5.0</td>\n      <td>1.0</td>\n      <td>42.0</td>\n      <td>0.0</td>\n    </tr>\n    <tr>\n      <td>1</td>\n      <td>6</td>\n      <td>2019</td>\n      <td>6</td>\n      <td>2</td>\n      <td>29.0</td>\n      <td>0.0</td>\n      <td>6.0</td>\n      <td>0.0</td>\n      <td>0.0</td>\n      <td>0.0</td>\n      <td>0.0</td>\n      <td>0.0</td>\n      <td>0.0</td>\n      <td>3.0</td>\n      <td>1.0</td>\n      <td>39.0</td>\n      <td>1.0</td>\n    </tr>\n    <tr>\n      <td>2</td>\n      <td>7</td>\n      <td>2019</td>\n      <td>6</td>\n      <td>9</td>\n      <td>80.0</td>\n      <td>0.0</td>\n      <td>19.0</td>\n      <td>0.0</td>\n      <td>3.0</td>\n      <td>2.0</td>\n      <td>1.0</td>\n      <td>1.0</td>\n      <td>0.0</td>\n      <td>9.0</td>\n      <td>1.0</td>\n      <td>116.0</td>\n      <td>1.0</td>\n    </tr>\n    <tr>\n      <td>3</td>\n      <td>8</td>\n      <td>2019</td>\n      <td>6</td>\n      <td>16</td>\n      <td>74.0</td>\n      <td>0.0</td>\n      <td>25.0</td>\n      <td>0.0</td>\n      <td>5.0</td>\n      <td>4.0</td>\n      <td>0.0</td>\n      <td>0.0</td>\n      <td>0.0</td>\n      <td>14.0</td>\n      <td>1.0</td>\n      <td>123.0</td>\n      <td>1.0</td>\n    </tr>\n    <tr>\n      <td>4</td>\n      <td>9</td>\n      <td>2019</td>\n      <td>6</td>\n      <td>23</td>\n      <td>15.0</td>\n      <td>1.0</td>\n      <td>8.0</td>\n      <td>1.0</td>\n      <td>2.0</td>\n      <td>2.0</td>\n      <td>0.0</td>\n      <td>0.0</td>\n      <td>0.0</td>\n      <td>3.0</td>\n      <td>1.0</td>\n      <td>33.0</td>\n      <td>0.0</td>\n    </tr>\n    <tr>\n      <td>...</td>\n      <td>...</td>\n      <td>...</td>\n      <td>...</td>\n      <td>...</td>\n      <td>...</td>\n      <td>...</td>\n      <td>...</td>\n      <td>...</td>\n      <td>...</td>\n      <td>...</td>\n      <td>...</td>\n      <td>...</td>\n      <td>...</td>\n      <td>...</td>\n      <td>...</td>\n      <td>...</td>\n      <td>...</td>\n    </tr>\n    <tr>\n      <td>40870</td>\n      <td>41798</td>\n      <td>2019</td>\n      <td>12</td>\n      <td>22</td>\n      <td>88.0</td>\n      <td>5.0</td>\n      <td>86.0</td>\n      <td>24.0</td>\n      <td>129.0</td>\n      <td>42.0</td>\n      <td>3.0</td>\n      <td>3.0</td>\n      <td>0.0</td>\n      <td>0.0</td>\n      <td>0.0</td>\n      <td>380.0</td>\n      <td>1.0</td>\n    </tr>\n    <tr>\n      <td>40871</td>\n      <td>41799</td>\n      <td>2019</td>\n      <td>12</td>\n      <td>29</td>\n      <td>31.0</td>\n      <td>4.0</td>\n      <td>21.0</td>\n      <td>30.0</td>\n      <td>40.0</td>\n      <td>25.0</td>\n      <td>0.0</td>\n      <td>0.0</td>\n      <td>0.0</td>\n      <td>0.0</td>\n      <td>0.0</td>\n      <td>151.0</td>\n      <td>0.0</td>\n    </tr>\n    <tr>\n      <td>40872</td>\n      <td>41800</td>\n      <td>2020</td>\n      <td>1</td>\n      <td>5</td>\n      <td>30.0</td>\n      <td>2.0</td>\n      <td>17.0</td>\n      <td>20.0</td>\n      <td>13.0</td>\n      <td>8.0</td>\n      <td>0.0</td>\n      <td>0.0</td>\n      <td>0.0</td>\n      <td>0.0</td>\n      <td>0.0</td>\n      <td>90.0</td>\n      <td>0.0</td>\n    </tr>\n    <tr>\n      <td>40873</td>\n      <td>41801</td>\n      <td>2020</td>\n      <td>1</td>\n      <td>12</td>\n      <td>19.0</td>\n      <td>2.0</td>\n      <td>17.0</td>\n      <td>19.0</td>\n      <td>53.0</td>\n      <td>33.0</td>\n      <td>0.0</td>\n      <td>0.0</td>\n      <td>0.0</td>\n      <td>0.0</td>\n      <td>0.0</td>\n      <td>143.0</td>\n      <td>1.0</td>\n    </tr>\n    <tr>\n      <td>40874</td>\n      <td>41802</td>\n      <td>2020</td>\n      <td>1</td>\n      <td>19</td>\n      <td>3.0</td>\n      <td>1.0</td>\n      <td>6.0</td>\n      <td>3.0</td>\n      <td>6.0</td>\n      <td>4.0</td>\n      <td>0.0</td>\n      <td>0.0</td>\n      <td>0.0</td>\n      <td>0.0</td>\n      <td>0.0</td>\n      <td>23.0</td>\n      <td>0.0</td>\n    </tr>\n  </tbody>\n</table>\n<p>40875 rows × 17 columns</p>\n</div>"
     },
     "metadata": {},
     "execution_count": 22
    }
   ],
   "source": [
    "df"
   ]
  },
  {
   "cell_type": "code",
   "execution_count": null,
   "metadata": {},
   "outputs": [],
   "source": []
  }
 ]
}