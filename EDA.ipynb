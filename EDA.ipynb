{
 "metadata": {
  "language_info": {
   "codemirror_mode": {
    "name": "ipython",
    "version": 3
   },
   "file_extension": ".py",
   "mimetype": "text/x-python",
   "name": "python",
   "nbconvert_exporter": "python",
   "pygments_lexer": "ipython3",
   "version": "3.7.4-final"
  },
  "orig_nbformat": 2,
  "kernelspec": {
   "name": "Python 3.7.4 64-bit ('anaconda3': virtualenv)",
   "display_name": "Python 3.7.4 64-bit ('anaconda3': virtualenv)",
   "metadata": {
    "interpreter": {
     "hash": "dca0ade3e726a953b501b15e8e990130d2b7799f14cfd9f4271676035ebe5511"
    }
   }
  }
 },
 "nbformat": 4,
 "nbformat_minor": 2,
 "cells": [
  {
   "cell_type": "code",
   "execution_count": 12,
   "metadata": {},
   "outputs": [],
   "source": [
    "import pandas as pd\n",
    "import numpy as np"
   ]
  },
  {
   "cell_type": "code",
   "execution_count": 13,
   "metadata": {},
   "outputs": [],
   "source": [
    "df = pd.read_csv('RFdataset.csv')"
   ]
  },
  {
   "cell_type": "code",
   "execution_count": 14,
   "metadata": {},
   "outputs": [
    {
     "output_type": "execute_result",
     "data": {
      "text/plain": [
       "         Unnamed: 0          year         month           day  \\\n",
       "count  40875.000000  40875.000000  40875.000000  40875.000000   \n",
       "mean   20875.432294   2016.557749      6.610789     15.688807   \n",
       "std    12065.216520      2.862990      3.405499      8.795499   \n",
       "min        5.000000   2000.000000      1.000000      1.000000   \n",
       "25%    10420.500000   2015.000000      4.000000      8.000000   \n",
       "50%    20832.000000   2017.000000      7.000000     16.000000   \n",
       "75%    31333.500000   2019.000000     10.000000     23.000000   \n",
       "max    41802.000000   2020.000000     12.000000     31.000000   \n",
       "\n",
       "       number_of_pushes  number_of_forks  number_of_pulls  \\\n",
       "count      40875.000000     40875.000000     40875.000000   \n",
       "mean           2.389456         0.958899         1.928538   \n",
       "std           10.548971         4.076971        10.903396   \n",
       "min            0.000000         0.000000         0.000000   \n",
       "25%            0.000000         0.000000         0.000000   \n",
       "50%            0.000000         0.000000         0.000000   \n",
       "75%            0.000000         0.000000         0.000000   \n",
       "max          214.000000        84.000000       388.000000   \n",
       "\n",
       "       number_of_Bookmarks  issue_comment_count  issue_author_count  \\\n",
       "count         40875.000000         40875.000000        40875.000000   \n",
       "mean              2.184856             4.304734            1.688489   \n",
       "std               8.866110            34.198856            9.912385   \n",
       "min               0.000000             0.000000            0.000000   \n",
       "25%               0.000000             0.000000            0.000000   \n",
       "50%               0.000000             0.000000            0.000000   \n",
       "75%               1.000000             0.000000            0.000000   \n",
       "max             249.000000          1023.000000          239.000000   \n",
       "\n",
       "       commit_comment_count  commit_author_count  number_of_issues  \\\n",
       "count          40875.000000         40875.000000           40875.0   \n",
       "mean               0.038434             0.028673               0.0   \n",
       "std                0.400452             0.266933               0.0   \n",
       "min                0.000000             0.000000               0.0   \n",
       "25%                0.000000             0.000000               0.0   \n",
       "50%                0.000000             0.000000               0.0   \n",
       "75%                0.000000             0.000000               0.0   \n",
       "max               16.000000             7.000000               0.0   \n",
       "\n",
       "       commit_count  unique_committer_count   Total_count        Status  \n",
       "count  40875.000000            40875.000000  40875.000000  40875.000000  \n",
       "mean       7.962398                1.163890     22.648367      0.702875  \n",
       "std       33.406668                3.641428     83.618036      0.456998  \n",
       "min        0.000000                0.000000      0.000000      0.000000  \n",
       "25%        0.000000                0.000000      0.000000      0.000000  \n",
       "50%        0.000000                0.000000      2.000000      1.000000  \n",
       "75%        3.000000                1.000000     12.000000      1.000000  \n",
       "max     2136.000000               53.000000   2146.000000      1.000000  "
      ],
      "text/html": "<div>\n<style scoped>\n    .dataframe tbody tr th:only-of-type {\n        vertical-align: middle;\n    }\n\n    .dataframe tbody tr th {\n        vertical-align: top;\n    }\n\n    .dataframe thead th {\n        text-align: right;\n    }\n</style>\n<table border=\"1\" class=\"dataframe\">\n  <thead>\n    <tr style=\"text-align: right;\">\n      <th></th>\n      <th>Unnamed: 0</th>\n      <th>year</th>\n      <th>month</th>\n      <th>day</th>\n      <th>number_of_pushes</th>\n      <th>number_of_forks</th>\n      <th>number_of_pulls</th>\n      <th>number_of_Bookmarks</th>\n      <th>issue_comment_count</th>\n      <th>issue_author_count</th>\n      <th>commit_comment_count</th>\n      <th>commit_author_count</th>\n      <th>number_of_issues</th>\n      <th>commit_count</th>\n      <th>unique_committer_count</th>\n      <th>Total_count</th>\n      <th>Status</th>\n    </tr>\n  </thead>\n  <tbody>\n    <tr>\n      <td>count</td>\n      <td>40875.000000</td>\n      <td>40875.000000</td>\n      <td>40875.000000</td>\n      <td>40875.000000</td>\n      <td>40875.000000</td>\n      <td>40875.000000</td>\n      <td>40875.000000</td>\n      <td>40875.000000</td>\n      <td>40875.000000</td>\n      <td>40875.000000</td>\n      <td>40875.000000</td>\n      <td>40875.000000</td>\n      <td>40875.0</td>\n      <td>40875.000000</td>\n      <td>40875.000000</td>\n      <td>40875.000000</td>\n      <td>40875.000000</td>\n    </tr>\n    <tr>\n      <td>mean</td>\n      <td>20875.432294</td>\n      <td>2016.557749</td>\n      <td>6.610789</td>\n      <td>15.688807</td>\n      <td>2.389456</td>\n      <td>0.958899</td>\n      <td>1.928538</td>\n      <td>2.184856</td>\n      <td>4.304734</td>\n      <td>1.688489</td>\n      <td>0.038434</td>\n      <td>0.028673</td>\n      <td>0.0</td>\n      <td>7.962398</td>\n      <td>1.163890</td>\n      <td>22.648367</td>\n      <td>0.702875</td>\n    </tr>\n    <tr>\n      <td>std</td>\n      <td>12065.216520</td>\n      <td>2.862990</td>\n      <td>3.405499</td>\n      <td>8.795499</td>\n      <td>10.548971</td>\n      <td>4.076971</td>\n      <td>10.903396</td>\n      <td>8.866110</td>\n      <td>34.198856</td>\n      <td>9.912385</td>\n      <td>0.400452</td>\n      <td>0.266933</td>\n      <td>0.0</td>\n      <td>33.406668</td>\n      <td>3.641428</td>\n      <td>83.618036</td>\n      <td>0.456998</td>\n    </tr>\n    <tr>\n      <td>min</td>\n      <td>5.000000</td>\n      <td>2000.000000</td>\n      <td>1.000000</td>\n      <td>1.000000</td>\n      <td>0.000000</td>\n      <td>0.000000</td>\n      <td>0.000000</td>\n      <td>0.000000</td>\n      <td>0.000000</td>\n      <td>0.000000</td>\n      <td>0.000000</td>\n      <td>0.000000</td>\n      <td>0.0</td>\n      <td>0.000000</td>\n      <td>0.000000</td>\n      <td>0.000000</td>\n      <td>0.000000</td>\n    </tr>\n    <tr>\n      <td>25%</td>\n      <td>10420.500000</td>\n      <td>2015.000000</td>\n      <td>4.000000</td>\n      <td>8.000000</td>\n      <td>0.000000</td>\n      <td>0.000000</td>\n      <td>0.000000</td>\n      <td>0.000000</td>\n      <td>0.000000</td>\n      <td>0.000000</td>\n      <td>0.000000</td>\n      <td>0.000000</td>\n      <td>0.0</td>\n      <td>0.000000</td>\n      <td>0.000000</td>\n      <td>0.000000</td>\n      <td>0.000000</td>\n    </tr>\n    <tr>\n      <td>50%</td>\n      <td>20832.000000</td>\n      <td>2017.000000</td>\n      <td>7.000000</td>\n      <td>16.000000</td>\n      <td>0.000000</td>\n      <td>0.000000</td>\n      <td>0.000000</td>\n      <td>0.000000</td>\n      <td>0.000000</td>\n      <td>0.000000</td>\n      <td>0.000000</td>\n      <td>0.000000</td>\n      <td>0.0</td>\n      <td>0.000000</td>\n      <td>0.000000</td>\n      <td>2.000000</td>\n      <td>1.000000</td>\n    </tr>\n    <tr>\n      <td>75%</td>\n      <td>31333.500000</td>\n      <td>2019.000000</td>\n      <td>10.000000</td>\n      <td>23.000000</td>\n      <td>0.000000</td>\n      <td>0.000000</td>\n      <td>0.000000</td>\n      <td>1.000000</td>\n      <td>0.000000</td>\n      <td>0.000000</td>\n      <td>0.000000</td>\n      <td>0.000000</td>\n      <td>0.0</td>\n      <td>3.000000</td>\n      <td>1.000000</td>\n      <td>12.000000</td>\n      <td>1.000000</td>\n    </tr>\n    <tr>\n      <td>max</td>\n      <td>41802.000000</td>\n      <td>2020.000000</td>\n      <td>12.000000</td>\n      <td>31.000000</td>\n      <td>214.000000</td>\n      <td>84.000000</td>\n      <td>388.000000</td>\n      <td>249.000000</td>\n      <td>1023.000000</td>\n      <td>239.000000</td>\n      <td>16.000000</td>\n      <td>7.000000</td>\n      <td>0.0</td>\n      <td>2136.000000</td>\n      <td>53.000000</td>\n      <td>2146.000000</td>\n      <td>1.000000</td>\n    </tr>\n  </tbody>\n</table>\n</div>"
     },
     "metadata": {},
     "execution_count": 14
    }
   ],
   "source": [
    "df.describe()"
   ]
  },
  {
   "cell_type": "code",
   "execution_count": null,
   "metadata": {},
   "outputs": [],
   "source": [
    "#checking"
   ]
  }
 ]
}